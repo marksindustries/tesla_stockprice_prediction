{
 "cells": [
  {
   "cell_type": "code",
   "execution_count": 1,
   "id": "6d5840aa",
   "metadata": {},
   "outputs": [],
   "source": [
    "import pandas as pd\n",
    "import numpy as np\n",
    "import seaborn as sns\n",
    "import matplotlib.pyplot as plt"
   ]
  },
  {
   "cell_type": "code",
   "execution_count": 5,
   "id": "1522270a",
   "metadata": {},
   "outputs": [],
   "source": [
    "data = pd.read_csv(\"Desktop/TSLA.csv.xls\")"
   ]
  },
  {
   "cell_type": "code",
   "execution_count": 6,
   "id": "3a026006",
   "metadata": {},
   "outputs": [
    {
     "data": {
      "text/html": [
       "<div>\n",
       "<style scoped>\n",
       "    .dataframe tbody tr th:only-of-type {\n",
       "        vertical-align: middle;\n",
       "    }\n",
       "\n",
       "    .dataframe tbody tr th {\n",
       "        vertical-align: top;\n",
       "    }\n",
       "\n",
       "    .dataframe thead th {\n",
       "        text-align: right;\n",
       "    }\n",
       "</style>\n",
       "<table border=\"1\" class=\"dataframe\">\n",
       "  <thead>\n",
       "    <tr style=\"text-align: right;\">\n",
       "      <th></th>\n",
       "      <th>Date</th>\n",
       "      <th>Open</th>\n",
       "      <th>High</th>\n",
       "      <th>Low</th>\n",
       "      <th>Close</th>\n",
       "      <th>Adj Close</th>\n",
       "      <th>Volume</th>\n",
       "    </tr>\n",
       "  </thead>\n",
       "  <tbody>\n",
       "    <tr>\n",
       "      <th>0</th>\n",
       "      <td>2010-07-01</td>\n",
       "      <td>5.000</td>\n",
       "      <td>5.184</td>\n",
       "      <td>4.054</td>\n",
       "      <td>4.392</td>\n",
       "      <td>4.392</td>\n",
       "      <td>41094000</td>\n",
       "    </tr>\n",
       "    <tr>\n",
       "      <th>1</th>\n",
       "      <td>2010-07-02</td>\n",
       "      <td>4.600</td>\n",
       "      <td>4.620</td>\n",
       "      <td>3.742</td>\n",
       "      <td>3.840</td>\n",
       "      <td>3.840</td>\n",
       "      <td>25699000</td>\n",
       "    </tr>\n",
       "    <tr>\n",
       "      <th>2</th>\n",
       "      <td>2010-07-06</td>\n",
       "      <td>4.000</td>\n",
       "      <td>4.000</td>\n",
       "      <td>3.166</td>\n",
       "      <td>3.222</td>\n",
       "      <td>3.222</td>\n",
       "      <td>34334500</td>\n",
       "    </tr>\n",
       "    <tr>\n",
       "      <th>3</th>\n",
       "      <td>2010-07-07</td>\n",
       "      <td>3.280</td>\n",
       "      <td>3.326</td>\n",
       "      <td>2.996</td>\n",
       "      <td>3.160</td>\n",
       "      <td>3.160</td>\n",
       "      <td>34608500</td>\n",
       "    </tr>\n",
       "    <tr>\n",
       "      <th>4</th>\n",
       "      <td>2010-07-08</td>\n",
       "      <td>3.228</td>\n",
       "      <td>3.504</td>\n",
       "      <td>3.114</td>\n",
       "      <td>3.492</td>\n",
       "      <td>3.492</td>\n",
       "      <td>38557000</td>\n",
       "    </tr>\n",
       "  </tbody>\n",
       "</table>\n",
       "</div>"
      ],
      "text/plain": [
       "         Date   Open   High    Low  Close  Adj Close    Volume\n",
       "0  2010-07-01  5.000  5.184  4.054  4.392      4.392  41094000\n",
       "1  2010-07-02  4.600  4.620  3.742  3.840      3.840  25699000\n",
       "2  2010-07-06  4.000  4.000  3.166  3.222      3.222  34334500\n",
       "3  2010-07-07  3.280  3.326  2.996  3.160      3.160  34608500\n",
       "4  2010-07-08  3.228  3.504  3.114  3.492      3.492  38557000"
      ]
     },
     "execution_count": 6,
     "metadata": {},
     "output_type": "execute_result"
    }
   ],
   "source": [
    "data.head()"
   ]
  },
  {
   "cell_type": "markdown",
   "id": "045a6e4a",
   "metadata": {},
   "source": [
    "## Using all the Features let's try to predict Volume of TESLA stock using regression model"
   ]
  },
  {
   "cell_type": "markdown",
   "id": "45ac335f",
   "metadata": {},
   "source": [
    "## Feature Engineering With EDA"
   ]
  },
  {
   "cell_type": "code",
   "execution_count": 30,
   "id": "3d2629d1",
   "metadata": {},
   "outputs": [],
   "source": [
    "data[\"Date\"] = pd.to_numeric(pd.to_datetime(data[\"Date\"]))"
   ]
  },
  {
   "cell_type": "code",
   "execution_count": 31,
   "id": "36fe50b9",
   "metadata": {},
   "outputs": [
    {
     "data": {
      "text/plain": [
       "Date         0\n",
       "Open         0\n",
       "High         0\n",
       "Low          0\n",
       "Close        0\n",
       "Adj Close    0\n",
       "Volume       0\n",
       "dtype: int64"
      ]
     },
     "execution_count": 31,
     "metadata": {},
     "output_type": "execute_result"
    }
   ],
   "source": [
    "data.isnull().sum()"
   ]
  },
  {
   "cell_type": "code",
   "execution_count": 32,
   "id": "747dd2b2",
   "metadata": {},
   "outputs": [
    {
     "data": {
      "text/html": [
       "<div>\n",
       "<style scoped>\n",
       "    .dataframe tbody tr th:only-of-type {\n",
       "        vertical-align: middle;\n",
       "    }\n",
       "\n",
       "    .dataframe tbody tr th {\n",
       "        vertical-align: top;\n",
       "    }\n",
       "\n",
       "    .dataframe thead th {\n",
       "        text-align: right;\n",
       "    }\n",
       "</style>\n",
       "<table border=\"1\" class=\"dataframe\">\n",
       "  <thead>\n",
       "    <tr style=\"text-align: right;\">\n",
       "      <th></th>\n",
       "      <th>Date</th>\n",
       "      <th>Open</th>\n",
       "      <th>High</th>\n",
       "      <th>Low</th>\n",
       "      <th>Close</th>\n",
       "      <th>Adj Close</th>\n",
       "      <th>Volume</th>\n",
       "    </tr>\n",
       "  </thead>\n",
       "  <tbody>\n",
       "    <tr>\n",
       "      <th>count</th>\n",
       "      <td>2.843000e+03</td>\n",
       "      <td>2843.000000</td>\n",
       "      <td>2843.000000</td>\n",
       "      <td>2843.000000</td>\n",
       "      <td>2843.000000</td>\n",
       "      <td>2843.000000</td>\n",
       "      <td>2.843000e+03</td>\n",
       "    </tr>\n",
       "    <tr>\n",
       "      <th>mean</th>\n",
       "      <td>1.456122e+18</td>\n",
       "      <td>105.868475</td>\n",
       "      <td>108.031370</td>\n",
       "      <td>103.555733</td>\n",
       "      <td>105.924597</td>\n",
       "      <td>105.924597</td>\n",
       "      <td>3.141524e+07</td>\n",
       "    </tr>\n",
       "    <tr>\n",
       "      <th>std</th>\n",
       "      <td>1.029431e+17</td>\n",
       "      <td>188.738974</td>\n",
       "      <td>192.483055</td>\n",
       "      <td>184.638617</td>\n",
       "      <td>188.836358</td>\n",
       "      <td>188.836358</td>\n",
       "      <td>2.841880e+07</td>\n",
       "    </tr>\n",
       "    <tr>\n",
       "      <th>min</th>\n",
       "      <td>1.277942e+18</td>\n",
       "      <td>3.228000</td>\n",
       "      <td>3.326000</td>\n",
       "      <td>2.996000</td>\n",
       "      <td>3.160000</td>\n",
       "      <td>3.160000</td>\n",
       "      <td>5.925000e+05</td>\n",
       "    </tr>\n",
       "    <tr>\n",
       "      <th>25%</th>\n",
       "      <td>1.367237e+18</td>\n",
       "      <td>10.698000</td>\n",
       "      <td>11.026000</td>\n",
       "      <td>10.420000</td>\n",
       "      <td>10.727000</td>\n",
       "      <td>10.727000</td>\n",
       "      <td>1.251050e+07</td>\n",
       "    </tr>\n",
       "    <tr>\n",
       "      <th>50%</th>\n",
       "      <td>1.456272e+18</td>\n",
       "      <td>45.874001</td>\n",
       "      <td>46.493999</td>\n",
       "      <td>45.102001</td>\n",
       "      <td>45.916000</td>\n",
       "      <td>45.916000</td>\n",
       "      <td>2.481500e+07</td>\n",
       "    </tr>\n",
       "    <tr>\n",
       "      <th>75%</th>\n",
       "      <td>1.545134e+18</td>\n",
       "      <td>65.021000</td>\n",
       "      <td>66.251999</td>\n",
       "      <td>64.015001</td>\n",
       "      <td>65.275002</td>\n",
       "      <td>65.275002</td>\n",
       "      <td>4.012025e+07</td>\n",
       "    </tr>\n",
       "    <tr>\n",
       "      <th>max</th>\n",
       "      <td>1.634170e+18</td>\n",
       "      <td>891.380005</td>\n",
       "      <td>900.400024</td>\n",
       "      <td>871.599976</td>\n",
       "      <td>883.090027</td>\n",
       "      <td>883.090027</td>\n",
       "      <td>3.046940e+08</td>\n",
       "    </tr>\n",
       "  </tbody>\n",
       "</table>\n",
       "</div>"
      ],
      "text/plain": [
       "               Date         Open         High          Low        Close  \\\n",
       "count  2.843000e+03  2843.000000  2843.000000  2843.000000  2843.000000   \n",
       "mean   1.456122e+18   105.868475   108.031370   103.555733   105.924597   \n",
       "std    1.029431e+17   188.738974   192.483055   184.638617   188.836358   \n",
       "min    1.277942e+18     3.228000     3.326000     2.996000     3.160000   \n",
       "25%    1.367237e+18    10.698000    11.026000    10.420000    10.727000   \n",
       "50%    1.456272e+18    45.874001    46.493999    45.102001    45.916000   \n",
       "75%    1.545134e+18    65.021000    66.251999    64.015001    65.275002   \n",
       "max    1.634170e+18   891.380005   900.400024   871.599976   883.090027   \n",
       "\n",
       "         Adj Close        Volume  \n",
       "count  2843.000000  2.843000e+03  \n",
       "mean    105.924597  3.141524e+07  \n",
       "std     188.836358  2.841880e+07  \n",
       "min       3.160000  5.925000e+05  \n",
       "25%      10.727000  1.251050e+07  \n",
       "50%      45.916000  2.481500e+07  \n",
       "75%      65.275002  4.012025e+07  \n",
       "max     883.090027  3.046940e+08  "
      ]
     },
     "execution_count": 32,
     "metadata": {},
     "output_type": "execute_result"
    }
   ],
   "source": [
    "data.describe()"
   ]
  },
  {
   "cell_type": "code",
   "execution_count": 33,
   "id": "9502fecc",
   "metadata": {},
   "outputs": [
    {
     "data": {
      "text/plain": [
       "<AxesSubplot:xlabel='High'>"
      ]
     },
     "execution_count": 33,
     "metadata": {},
     "output_type": "execute_result"
    },
    {
     "data": {
      "image/png": "[encoded data removed]",
      "text/plain": [
       "<Figure size 432x288 with 1 Axes>"
      ]
     },
     "metadata": {
      "needs_background": "light"
     },
     "output_type": "display_data"
    }
   ],
   "source": [
    "sns.boxplot(data=data,x=\"High\")"
   ]
  },
  {
   "cell_type": "code",
   "execution_count": 34,
   "id": "2e0ec47b",
   "metadata": {},
   "outputs": [
    {
     "data": {
      "text/plain": [
       "<AxesSubplot:xlabel='Low'>"
      ]
     },
     "execution_count": 34,
     "metadata": {},
     "output_type": "execute_result"
    },
    {
     "data": {
      "image/png": "[encoded data removed]",
      "text/plain": [
       "<Figure size 432x288 with 1 Axes>"
      ]
     },
     "metadata": {
      "needs_background": "light"
     },
     "output_type": "display_data"
    }
   ],
   "source": [
    "sns.boxplot(data=data,x=\"Low\")"
   ]
  },
  {
   "cell_type": "markdown",
   "id": "89af60e6",
   "metadata": {},
   "source": [
    "### The feature \"High\" has highest positive correlation amongst all other feature."
   ]
  },
  {
   "cell_type": "code",
   "execution_count": 35,
   "id": "92581409",
   "metadata": {},
   "outputs": [
    {
     "data": {
      "text/plain": [
       "Volume       1.000000\n",
       "Date         0.469954\n",
       "High         0.150014\n",
       "Close        0.145800\n",
       "Adj Close    0.145800\n",
       "Open         0.144874\n",
       "Low          0.139580\n",
       "Name: Volume, dtype: float64"
      ]
     },
     "execution_count": 35,
     "metadata": {},
     "output_type": "execute_result"
    }
   ],
   "source": [
    "data.corr()[\"Volume\"].sort_values(ascending=False)"
   ]
  },
  {
   "cell_type": "markdown",
   "id": "421fce0f",
   "metadata": {},
   "source": [
    "### Preparing data for applying Machine learning model"
   ]
  },
  {
   "cell_type": "markdown",
   "id": "eefde54b",
   "metadata": {},
   "source": [
    "#### 1) Splitting data into train-test."
   ]
  },
  {
   "cell_type": "code",
   "execution_count": 39,
   "id": "b64ef466",
   "metadata": {},
   "outputs": [],
   "source": [
    "x = data.drop(\"Volume\",axis=1)\n",
    "y = data[\"Volume\"]\n"
   ]
  },
  {
   "cell_type": "code",
   "execution_count": 40,
   "id": "de635321",
   "metadata": {},
   "outputs": [],
   "source": [
    "from sklearn.model_selection import train_test_split\n",
    "x_train,x_test,y_train,y_test= train_test_split(x,y,test_size=0.3,random_state=42)"
   ]
  },
  {
   "cell_type": "markdown",
   "id": "e4bf2e78",
   "metadata": {},
   "source": [
    "#### 2) Scaling data, as it improves convergence of steepest gradient descent and no one feature updates faster than other."
   ]
  },
  {
   "cell_type": "code",
   "execution_count": 41,
   "id": "345a353f",
   "metadata": {},
   "outputs": [],
   "source": [
    "from sklearn.preprocessing import StandardScaler\n",
    "sc = StandardScaler()\n",
    "x_train_scaled = sc.fit_transform(x_train)\n",
    "x_test_scaled = sc.transform(x_test)\n"
   ]
  },
  {
   "cell_type": "markdown",
   "id": "8e6300ed",
   "metadata": {},
   "source": [
    "### 3) Using Regression model we will compare each algorithm with one another."
   ]
  },
  {
   "cell_type": "markdown",
   "id": "e5cac418",
   "metadata": {},
   "source": [
    "#### 1) Linear Regression"
   ]
  },
  {
   "cell_type": "code",
   "execution_count": 79,
   "id": "685cdf49",
   "metadata": {},
   "outputs": [],
   "source": [
    "from sklearn.linear_model import LinearRegression\n",
    "\n",
    "Linear_model = LinearRegression()\n",
    "Linear_model.fit(x_train_scaled,y_train)\n",
    "\n",
    "y_pred_linear = Linear_model.predict(x_test_scaled)\n",
    "\n",
    "from sklearn.metrics import mean_absolute_error,mean_squared_error\n",
    "\n",
    "linear_mae = mean_absolute_error(y_pred_linear,y_test)\n",
    "linear_mse = mean_squared_error(y_pred_linear,y_test)\n",
    "linear_rmse = np.sqrt(linear_mse)\n"
   ]
  },
  {
   "cell_type": "code",
   "execution_count": 80,
   "id": "1cfbfabd",
   "metadata": {},
   "outputs": [
    {
     "data": {
      "text/plain": [
       "(14885499.768181618, 510789096906625.56, 22600643.727704428)"
      ]
     },
     "execution_count": 80,
     "metadata": {},
     "output_type": "execute_result"
    }
   ],
   "source": [
    "linear_mae,linear_mse,linear_rmse"
   ]
  },
  {
   "cell_type": "markdown",
   "id": "2f4c4733",
   "metadata": {},
   "source": [
    "#### 2) Polynomial Regression"
   ]
  },
  {
   "cell_type": "code",
   "execution_count": 81,
   "id": "957c06c1",
   "metadata": {},
   "outputs": [],
   "source": [
    "from sklearn.preprocessing import PolynomialFeatures \n",
    "from sklearn.linear_model import LinearRegression\n",
    "\n",
    "linear_model = LinearRegression()\n",
    "\n",
    "Poly_model = PolynomialFeatures(degree = 4)\n",
    "x_poly = Poly_model.fit_transform(x_train_scaled)\n",
    "x_test_poly = Poly_model.transform(x_test_scaled)\n",
    "\n",
    "Linear_model.fit(x_poly,y_train)\n",
    "\n",
    "y_pred_poly = Linear_model.predict(x_test_poly)\n",
    "\n",
    "from sklearn.metrics import mean_absolute_error,mean_squared_error\n",
    "\n",
    "poly_mae = mean_absolute_error(y_pred_poly,y_test)\n",
    "poly_mse = mean_squared_error(y_pred_poly,y_test)\n",
    "poly_rmse = np.sqrt(poly_mse)\n"
   ]
  },
  {
   "cell_type": "code",
   "execution_count": 82,
   "id": "0c998d5e",
   "metadata": {},
   "outputs": [
    {
     "data": {
      "text/plain": [
       "(11216015.839412006, 1822814353687751.5, 42694430.00776274)"
      ]
     },
     "execution_count": 82,
     "metadata": {},
     "output_type": "execute_result"
    }
   ],
   "source": [
    "poly_mae,poly_mse,poly_rmse"
   ]
  },
  {
   "cell_type": "markdown",
   "id": "df25d02f",
   "metadata": {},
   "source": [
    "#### 3) RandomForestRegressor"
   ]
  },
  {
   "cell_type": "code",
   "execution_count": 83,
   "id": "799984a0",
   "metadata": {},
   "outputs": [],
   "source": [
    "from sklearn.ensemble import RandomForestRegressor\n",
    "\n",
    "random_model = RandomForestRegressor(n_estimators=300)\n",
    "\n",
    "random_model.fit(x_train_scaled,y_train)\n",
    "\n",
    "y_pred_random = random_model.predict(x_test_scaled)\n",
    "\n",
    "random_mae = mean_absolute_error(y_pred_random,y_test)\n",
    "random_mse = mean_squared_error(y_pred_random,y_test)\n",
    "random_rmse = np.sqrt(poly_mse)\n"
   ]
  },
  {
   "cell_type": "code",
   "execution_count": 84,
   "id": "5e948e11",
   "metadata": {},
   "outputs": [
    {
     "data": {
      "text/plain": [
       "(8475309.139116842, 270385499529591.84, 42694430.00776274)"
      ]
     },
     "execution_count": 84,
     "metadata": {},
     "output_type": "execute_result"
    }
   ],
   "source": [
    "random_mae,random_mse,random_rmse"
   ]
  },
  {
   "cell_type": "markdown",
   "id": "16b8628a",
   "metadata": {},
   "source": [
    "#### 4) DecisionTreeRegressor"
   ]
  },
  {
   "cell_type": "code",
   "execution_count": 85,
   "id": "f698c0bc",
   "metadata": {},
   "outputs": [],
   "source": [
    "from sklearn.tree import DecisionTreeRegressor\n",
    "\n",
    "decision_model = DecisionTreeRegressor()\n",
    "\n",
    "decision_model.fit(x_train_scaled,y_train)\n",
    "\n",
    "y_pred_decision = decision_model.predict(x_test_scaled)\n",
    "\n",
    "\n",
    "decision_mae = mean_absolute_error(y_pred_decision,y_test)\n",
    "decision_mse = mean_squared_error(y_pred_decision,y_test)\n",
    "decision_rmse = np.sqrt(poly_mse)\n",
    "\n"
   ]
  },
  {
   "cell_type": "code",
   "execution_count": 86,
   "id": "6de60e75",
   "metadata": {},
   "outputs": [
    {
     "data": {
      "text/plain": [
       "(10804235.52168816, 442508575203388.0, 42694430.00776274)"
      ]
     },
     "execution_count": 86,
     "metadata": {},
     "output_type": "execute_result"
    }
   ],
   "source": [
    "decision_mae,decision_mse,decision_rmse"
   ]
  },
  {
   "cell_type": "markdown",
   "id": "4305dcc2",
   "metadata": {},
   "source": [
    "#### 5) Support Vector Machine - regressor "
   ]
  },
  {
   "cell_type": "code",
   "execution_count": 87,
   "id": "17fa3143",
   "metadata": {},
   "outputs": [],
   "source": [
    "from sklearn.svm import SVR\n",
    "\n",
    "svr_model = SVR()\n",
    "\n",
    "svr_model.fit(x_train_scaled,y_train)\n",
    "\n",
    "y_pred_svr = svr_model.predict(x_test_scaled)\n",
    "\n",
    "svr_mae = mean_absolute_error(y_pred_svr,y_test)\n",
    "svr_mse = mean_squared_error(y_pred_svr,y_test)\n",
    "svr_rmse = np.sqrt(poly_mse)"
   ]
  },
  {
   "cell_type": "code",
   "execution_count": 90,
   "id": "a198dca5",
   "metadata": {},
   "outputs": [],
   "source": [
    "final_results = pd.DataFrame(data = {\"Linear\":[linear_mae,linear_mse,linear_rmse],\"Polynomial\":[poly_mae,poly_mse,poly_rmse],\"Random Forest\":[random_mae,random_mse,random_rmse],\"Decision Tree\":[decision_mae,decision_mse,decision_rmse],\"Support Vector Machine\":[svr_mae,svr_mse,svr_rmse]},index= [\"Mean Absolute Error\",\"Mean Squared Error\",\"Root Mean Squared Error\"])\n",
    "\n",
    "\n",
    "\n"
   ]
  },
  {
   "cell_type": "code",
   "execution_count": 91,
   "id": "556a5794",
   "metadata": {},
   "outputs": [
    {
     "data": {
      "text/html": [
       "<div>\n",
       "<style scoped>\n",
       "    .dataframe tbody tr th:only-of-type {\n",
       "        vertical-align: middle;\n",
       "    }\n",
       "\n",
       "    .dataframe tbody tr th {\n",
       "        vertical-align: top;\n",
       "    }\n",
       "\n",
       "    .dataframe thead th {\n",
       "        text-align: right;\n",
       "    }\n",
       "</style>\n",
       "<table border=\"1\" class=\"dataframe\">\n",
       "  <thead>\n",
       "    <tr style=\"text-align: right;\">\n",
       "      <th></th>\n",
       "      <th>Linear</th>\n",
       "      <th>Polynomial</th>\n",
       "      <th>Random Forest</th>\n",
       "      <th>Decision Tree</th>\n",
       "      <th>Support Vector Machine</th>\n",
       "    </tr>\n",
       "  </thead>\n",
       "  <tbody>\n",
       "    <tr>\n",
       "      <th>Mean Absolute Error</th>\n",
       "      <td>1.488550e+07</td>\n",
       "      <td>1.121602e+07</td>\n",
       "      <td>8.475309e+06</td>\n",
       "      <td>1.080424e+07</td>\n",
       "      <td>1.902252e+07</td>\n",
       "    </tr>\n",
       "    <tr>\n",
       "      <th>Mean Squared Error</th>\n",
       "      <td>5.107891e+14</td>\n",
       "      <td>1.822814e+15</td>\n",
       "      <td>2.703855e+14</td>\n",
       "      <td>4.425086e+14</td>\n",
       "      <td>8.575976e+14</td>\n",
       "    </tr>\n",
       "    <tr>\n",
       "      <th>Root Mean Squared Error</th>\n",
       "      <td>2.260064e+07</td>\n",
       "      <td>4.269443e+07</td>\n",
       "      <td>4.269443e+07</td>\n",
       "      <td>4.269443e+07</td>\n",
       "      <td>4.269443e+07</td>\n",
       "    </tr>\n",
       "  </tbody>\n",
       "</table>\n",
       "</div>"
      ],
      "text/plain": [
       "                               Linear    Polynomial  Random Forest  \\\n",
       "Mean Absolute Error      1.488550e+07  1.121602e+07   8.475309e+06   \n",
       "Mean Squared Error       5.107891e+14  1.822814e+15   2.703855e+14   \n",
       "Root Mean Squared Error  2.260064e+07  4.269443e+07   4.269443e+07   \n",
       "\n",
       "                         Decision Tree  Support Vector Machine  \n",
       "Mean Absolute Error       1.080424e+07            1.902252e+07  \n",
       "Mean Squared Error        4.425086e+14            8.575976e+14  \n",
       "Root Mean Squared Error   4.269443e+07            4.269443e+07  "
      ]
     },
     "execution_count": 91,
     "metadata": {},
     "output_type": "execute_result"
    }
   ],
   "source": [
    "final_results"
   ]
  },
  {
   "cell_type": "code",
   "execution_count": null,
   "id": "1cd25b6c",
   "metadata": {},
   "outputs": [],
   "source": []
  }
 ],
 "metadata": {
  "kernelspec": {
   "display_name": "Python 3 (ipykernel)",
   "language": "python",
   "name": "python3"
  },
  "language_info": {
   "codemirror_mode": {
    "name": "ipython",
    "version": 3
   },
   "file_extension": ".py",
   "mimetype": "text/x-python",
   "name": "python",
   "nbconvert_exporter": "python",
   "pygments_lexer": "ipython3",
   "version": "3.9.12"
  }
 },
 "nbformat": 4,
 "nbformat_minor": 5
}
